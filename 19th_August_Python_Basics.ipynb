{
 "cells": [
  {
   "cell_type": "code",
   "execution_count": null,
   "id": "1d2e8bd3-8e54-46ce-95a1-ac7f9c3b3a6c",
   "metadata": {},
   "outputs": [],
   "source": [
    "#Assignment 1 Python Basic"
   ]
  },
  {
   "cell_type": "code",
   "execution_count": null,
   "id": "fee1aa80-10cd-46d2-8311-d178be042e6a",
   "metadata": {},
   "outputs": [],
   "source": [
    "#Python Basic Variable"
   ]
  },
  {
   "cell_type": "code",
   "execution_count": 3,
   "id": "e26c9b37-2f0d-4286-915e-4df5f153761a",
   "metadata": {},
   "outputs": [
    {
     "name": "stdout",
     "output_type": "stream",
     "text": [
      "40\n",
      "35\n"
     ]
    }
   ],
   "source": [
    "#Answer 1\n",
    "#Swap the values of these variables without using any temporary variable.\n",
    "\n",
    "x=35\n",
    "y=40\n",
    "x=x+y\n",
    "y=x-y\n",
    "x=x-y\n",
    "print(x)\n",
    "print(y)"
   ]
  },
  {
   "cell_type": "raw",
   "id": "a97129cd-f987-4131-bce9-154de2234236",
   "metadata": {},
   "source": [
    "Step 1:Take two variables x and y. After that initialise the value of the variables.\n",
    "\n",
    "Step 2: Firstly,Store the sum of these variables in x.\n",
    "\n",
    "Step 3: Subtract y from x and store it in y.\n",
    "\n",
    "Step 4: Replace x with x - y.\n",
    "\n",
    "Step 5: Print the values of x and y and As a result, you will see that value of variables x and y have been swapped. "
   ]
  },
  {
   "cell_type": "code",
   "execution_count": 6,
   "id": "1c28c249-ce13-41d0-9581-3c07eaff16d5",
   "metadata": {},
   "outputs": [
    {
     "name": "stdout",
     "output_type": "stream",
     "text": [
      "Area of rectangle\n",
      "Enter The Length :\n"
     ]
    },
    {
     "name": "stdin",
     "output_type": "stream",
     "text": [
      " 45\n"
     ]
    },
    {
     "name": "stdout",
     "output_type": "stream",
     "text": [
      "Enter The Width :\n"
     ]
    },
    {
     "name": "stdin",
     "output_type": "stream",
     "text": [
      " 34\n"
     ]
    },
    {
     "name": "stdout",
     "output_type": "stream",
     "text": [
      "Area of Rectangle : 1530.0\n"
     ]
    }
   ],
   "source": [
    "#Answer 2\n",
    "#Calculate and display the area of rectangle after taking input the user.\n",
    "print(\"Area of rectangle\")\n",
    "print(\"Enter The Length :\")\n",
    "l=float(input())\n",
    "print(\"Enter The Width :\")\n",
    "b=float(input())\n",
    "area=l*b\n",
    "print(\"Area of Rectangle :\",area)\n"
   ]
  },
  {
   "cell_type": "raw",
   "id": "89a33512-f0f3-48ae-8426-de57940bc499",
   "metadata": {},
   "source": [
    "Step 1:Firstly, we will take input from the user for length and breadth using the input() function and store it in two variables l and b.\n",
    "\n",
    "Step 2: Now, we will calculate the area of a rectangle by using the formula Area = l * b and store  it in a varible named area.\n",
    "\n",
    "Step 3: At last, print the variable area and you will get area of a rectangle  as output."
   ]
  },
  {
   "cell_type": "code",
   "execution_count": 6,
   "id": "7ceaab19-99f4-4413-b386-1f571e13e871",
   "metadata": {},
   "outputs": [
    {
     "name": "stdout",
     "output_type": "stream",
     "text": [
      "Celcius to Fahrenheit\n",
      "Enter the temprature in Celcius :\n"
     ]
    },
    {
     "name": "stdin",
     "output_type": "stream",
     "text": [
      " 55\n"
     ]
    },
    {
     "name": "stdout",
     "output_type": "stream",
     "text": [
      "Temprature in Fahrenheit : 131.0\n"
     ]
    }
   ],
   "source": [
    "#Answer 3\n",
    "#Take the temperature in Celsius as input, store it in a variable,convert it to Fahrenheit, and display the result.\n",
    "print(\"Celcius to Fahrenheit\")\n",
    "print(\"Enter the temprature in Celcius :\")\n",
    "temp=float(input())\n",
    "temp2=(temp *1.8)+32\n",
    "print(\"Temprature in Fahrenheit :\",temp2)"
   ]
  },
  {
   "cell_type": "code",
   "execution_count": null,
   "id": "2d44e832-6574-420c-814f-d7e4c72edd1f",
   "metadata": {},
   "outputs": [],
   "source": [
    "\n",
    "Step 1:Firstly, we will take input from the user for degree in temperature.\n",
    "\n",
    "Step 2: Now, Use the mathematical formula f=(c*1.8)+32 to convert the input celsius degree temperature to Fahrenheit degree temperature.\n",
    "\n",
    "Step 3: At last, Print the Fahrenheit equivalent of the given input celsius degree temperature."
   ]
  },
  {
   "cell_type": "code",
   "execution_count": null,
   "id": "b8a9e3a6-ec1b-499a-938b-838f4351915e",
   "metadata": {},
   "outputs": [],
   "source": [
    "#String Based Question"
   ]
  },
  {
   "cell_type": "code",
   "execution_count": 8,
   "id": "b59f3a24-beda-4723-a170-b464c7a56645",
   "metadata": {},
   "outputs": [
    {
     "name": "stdout",
     "output_type": "stream",
     "text": [
      "Enter The string : \n"
     ]
    },
    {
     "name": "stdin",
     "output_type": "stream",
     "text": [
      " My Name is Vikas\n"
     ]
    },
    {
     "name": "stdout",
     "output_type": "stream",
     "text": [
      "Length of the String :\n",
      "16\n"
     ]
    }
   ],
   "source": [
    "#Answer 4\n",
    "#Write a Python program that takes a string as input and prints the length of the string.\n",
    "\n",
    "print(\"Enter The string : \")\n",
    "str1=str(input())\n",
    "print(\"Length of the String :\")\n",
    "print(len(str1))"
   ]
  },
  {
   "cell_type": "raw",
   "id": "91018d71-2e8a-40f8-b23a-1769924ab00e",
   "metadata": {},
   "source": [
    "Step 1:Firstly, we will take sting as input from the user and store it in str1.\n",
    "\n",
    "Step 2: Now, Use the in built function len() and print the length of the string\n"
   ]
  },
  {
   "cell_type": "code",
   "execution_count": 3,
   "id": "6fe75297-ae98-4c30-85da-2505ab72b7e7",
   "metadata": {},
   "outputs": [
    {
     "name": "stdin",
     "output_type": "stream",
     "text": [
      "Enter string: Emperor of this Universe\n"
     ]
    },
    {
     "name": "stdout",
     "output_type": "stream",
     "text": [
      "Number of vowels are:\n",
      "9\n"
     ]
    }
   ],
   "source": [
    "#Answer 5\n",
    "#Create a program that takes a sentence from the user and counts the number of vowels (a, e, i, o, u) in the string.\n",
    "string=str(input(\"Enter string:\"))\n",
    "vowels=0\n",
    "for i in string:\n",
    "      if(i=='a' or i=='e' or i=='i' or i=='o' or i=='u' or i=='A' or i=='E' or i=='I' or i=='O' or i=='U'):\n",
    "            vowels=vowels+1\n",
    "print(\"Number of vowels are:\")\n",
    "print(vowels)"
   ]
  },
  {
   "cell_type": "raw",
   "id": "1bdebdde-74a7-43b8-bc4a-4a9ed534209c",
   "metadata": {},
   "source": [
    "Step 1 : User must enter a string and store it in a variable.\n",
    "Step 2 : The count variable vowels is initialized to zero.\n",
    "Step 3 : The for loop is used to traverse through the characters in the string.\n",
    "Step 4 : An if statement checks if the character is a vowel or not.\n",
    "Step 5 : The count is incremented each time a vowel is encountered.\n",
    "Step 6 : The total count of vowels in the string is printed."
   ]
  },
  {
   "cell_type": "code",
   "execution_count": 4,
   "id": "604c18de-91de-4c9e-a97b-d387b889cb2d",
   "metadata": {},
   "outputs": [
    {
     "name": "stdout",
     "output_type": "stream",
     "text": [
      "String in reverse order ;\n",
      "najnaR sakiV\n"
     ]
    }
   ],
   "source": [
    "#Answer 6\n",
    "#Given a string, reverse the order of characters using string slicing and print the reversed string.\n",
    "str1=\"Vikas Ranjan\"\n",
    "print(\"String in reverse order ;\")\n",
    "str2=str1[::-1]\n",
    "print(str2)"
   ]
  },
  {
   "cell_type": "raw",
   "id": "6a3fa5db-dfff-4d22-a4aa-01089fe222ea",
   "metadata": {},
   "source": [
    "Step 1 : We have a string, \"Hello World\", which we want to reverse so firstly Create a slice that starts at the end of the string, and moves backwards\n",
    "Step 2 : The slice statement [::-1] means start at the end of the string and end at position 0, move with the step -1, negative one, which means one step backwards.\n",
    "Step 3 : Now we have a string txt that reads \"Hello World\" backwards.\n",
    "Step 4 : Print the String to demonstrate the result"
   ]
  },
  {
   "cell_type": "code",
   "execution_count": 5,
   "id": "3af3c55f-9c61-4131-b025-18aac9abe08f",
   "metadata": {},
   "outputs": [
    {
     "name": "stdout",
     "output_type": "stream",
     "text": [
      "Enter the string :\n"
     ]
    },
    {
     "name": "stdin",
     "output_type": "stream",
     "text": [
      " Madam\n"
     ]
    },
    {
     "name": "stdout",
     "output_type": "stream",
     "text": [
      "Palindrome!\n"
     ]
    }
   ],
   "source": [
    "#Answer 7\n",
    "#Write a program that takes a string as input and checks if it is a palindrome\n",
    "print(\"Enter the string :\")\n",
    "str1=str(input())\n",
    "str1=str1.lower()\n",
    "if str1 == str1[::-1] :\n",
    "    print(\"Palindrome!\")\n",
    "else:\n",
    "    print (\"Not a Palindrome!\")"
   ]
  },
  {
   "cell_type": "raw",
   "id": "01d8342d-584a-4ee9-ae40-442d526e35dc",
   "metadata": {},
   "source": [
    "Step 1 : In the above code, we start by declaring the variable str1 which takes string input from the user.Then we will change the input sring in lowercase for removing case sensitive issue.  \n",
    "Step 2 : Then, in the if body, we get the reverse of the input string using a slice operator – string[::-1] compared with the input string. Here, -1 is the step parameter that ensures that the slicing will start from the end of the string with one step back each time. \n",
    "Step 3 :Now, if the reversed string matches the input string, it is a palindrome \n",
    "Step 4 :Or else, it is not a palindrome. "
   ]
  },
  {
   "cell_type": "code",
   "execution_count": 6,
   "id": "38f329d5-f4d9-4058-a606-e2e0a7855df3",
   "metadata": {},
   "outputs": [
    {
     "name": "stdin",
     "output_type": "stream",
     "text": [
      "Enter the string : Vikas ranjan\n"
     ]
    },
    {
     "name": "stdout",
     "output_type": "stream",
     "text": [
      "Vikasranjan\n"
     ]
    }
   ],
   "source": [
    "#Answer 8\n",
    "#Create a program that takes a string as input and removes all the spaces from it. Print the modified string without spaces.\n",
    "a=str((input(\"Enter the string :\")))\n",
    "b=(a.split(\" \")) # returns ['Hello', ' World!']\n",
    "j=\"\"\n",
    "print(j.join(b))"
   ]
  },
  {
   "cell_type": "raw",
   "id": "0f89fbb0-9e7a-4684-9b62-1907558b4b8a",
   "metadata": {},
   "source": [
    "Step 1 : In the above code, we start by declaring the variable (a)which takes string input from the user.  \n",
    "Step 2 : To remove blank spaces from a string in Python, we will use  the split() and join() methods. The split() method will split the string into a list of words which will be stored in to a variable  (b) .\n",
    "Step 3 : We will now take an empty string (j) and store all the list element by jioning with the help of join() function.\n",
    "Step 4 : We will print the variable str2 and we will get our desired result"
   ]
  },
  {
   "cell_type": "code",
   "execution_count": null,
   "id": "3d4bd4ca-0f2f-4cdd-8c3f-9159b3219307",
   "metadata": {},
   "outputs": [],
   "source": []
  },
  {
   "cell_type": "code",
   "execution_count": null,
   "id": "097a6267-6185-4569-b2fa-ba84c2e793ea",
   "metadata": {},
   "outputs": [],
   "source": []
  }
 ],
 "metadata": {
  "kernelspec": {
   "display_name": "Python 3 (ipykernel)",
   "language": "python",
   "name": "python3"
  },
  "language_info": {
   "codemirror_mode": {
    "name": "ipython",
    "version": 3
   },
   "file_extension": ".py",
   "mimetype": "text/x-python",
   "name": "python",
   "nbconvert_exporter": "python",
   "pygments_lexer": "ipython3",
   "version": "3.10.8"
  }
 },
 "nbformat": 4,
 "nbformat_minor": 5
}
